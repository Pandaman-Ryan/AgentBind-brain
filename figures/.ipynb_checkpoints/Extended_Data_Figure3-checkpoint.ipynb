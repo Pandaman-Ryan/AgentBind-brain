{
 "cells": [
  {
   "cell_type": "code",
   "execution_count": 1,
   "metadata": {},
   "outputs": [
    {
     "name": "stdout",
     "output_type": "stream",
     "text": [
      "Populating the interactive namespace from numpy and matplotlib\n"
     ]
    }
   ],
   "source": [
    "%pylab inline\n",
    "import math\n",
    "import matplotlib\n",
    "matplotlib.use('Agg')\n",
    "import matplotlib.pyplot as plt\n",
    "import os\n",
    "import numpy as np\n",
    "from scipy.stats import fisher_exact, sem, pearsonr\n",
    "from sklearn import linear_model\n",
    "import statsmodels.api as sm"
   ]
  },
  {
   "cell_type": "code",
   "execution_count": 2,
   "metadata": {},
   "outputs": [],
   "source": [
    "def read_score_map(weight_file, position_file):\n",
    "    score_map = {}\n",
    "    with open(weight_file) as f, open(position_file) as f_pos:\n",
    "        while True:\n",
    "            weight_info = f.readline().strip()\n",
    "            position_info = f_pos.readline().strip()\n",
    "\n",
    "            if (weight_info != \"\") and (position_info != \"\"):\n",
    "                chromID, motif_start, motif_end, seq_start, seq_end, strand = position_info.split(\",\")\n",
    "                seq_start, seq_end = int(seq_start), int(seq_end)\n",
    "                weights_raw = [abs(float(wt)) for wt in weight_info.split(\";\")]\n",
    "                weights_sum = sum(weights_raw)\n",
    "                weights = [w/weights_sum for w in weights_raw]\n",
    "                for idx in range(1000):\n",
    "                    if (chromID, seq_start+idx) not in score_map:\n",
    "                        score_map[(chromID, seq_start+idx)] = 0\n",
    "                    if strand == \"+\":\n",
    "                        if abs(weights[idx]) > abs(score_map[(chromID, seq_start+idx)]):\n",
    "                            score_map[(chromID, seq_start+idx)] = weights[idx]\n",
    "                    elif strand == \"-\":\n",
    "                        if abs(weights[999-idx]) > abs(score_map[(chromID, seq_start+idx)]):\n",
    "                            score_map[(chromID, seq_start+idx)] = weights[999-idx]\n",
    "                    else:\n",
    "                        exit(\"wrong strand symbol: %s\" %(strand))\n",
    "            elif (weight_info == \"\") and (position_info == \"\"):\n",
    "                break\n",
    "            else:\n",
    "                exit(\"Files do not match:\\n%s\\n%s\" %(weight_file, position_file))\n",
    "    return score_map\n",
    "\n",
    "\n",
    "data_path = \"/storage/pandaman/project/Alzheimers_ResNet/storage/experiments/\"\n",
    "TF_names = [\"PU1\", \"LHX2\", \"NeuN\", \"Olig2\"]\n",
    "score_map = {}\n",
    "for TF_name in TF_names:\n",
    "    position_file = os.path.join(data_path, \"seqs_one_hot_extended_sliding/%s/visualization/auxiliary_info.txt\" %(TF_name))\n",
    "    weight_file = os.path.join(data_path, \"results_extended_coordconv_sliding/%s/annations_abs/scores.txt\" %(TF_name))\n",
    "    score_map[TF_name] = read_score_map(weight_file, position_file)"
   ]
  },
  {
   "cell_type": "code",
   "execution_count": 3,
   "metadata": {},
   "outputs": [],
   "source": [
    "allelic_imb_file = \"/storage/pandaman/project/Alzheimers_ResNet/storage/allelic_imbalance/ADVariants.all_AllelicImbalance.txt\"\n",
    "allelic_imb_dict = {}\n",
    "allelic_imb_high_folds_dict = {}\n",
    "header = True\n",
    "list_ttl_reads = []\n",
    "for line in open(allelic_imb_file):\n",
    "    if line.startswith(\"#\"):\n",
    "        continue\n",
    "    else:\n",
    "        if header:\n",
    "            header = False\n",
    "            continue\n",
    "        else:\n",
    "            elems = line.strip().split()\n",
    "            chromID, pos = elems[0].split(\":\")\n",
    "            chromID = \"chr\" + chromID\n",
    "            pos = int(pos)\n",
    "            ttl_reads = float(elems[3])\n",
    "            ttl_ref = float(elems[4])\n",
    "            ttl_alt = float(elems[5])\n",
    "            pval = float(elems[6])\n",
    "            allelic_imb_dict[(chromID, pos)] = (pval, ttl_reads, ttl_ref, ttl_alt)\n",
    "            list_ttl_reads.append(ttl_reads)\n",
    "            if ttl_reads >= 10:\n",
    "                allelic_imb_high_folds_dict[(chromID, pos)] = (pval, ttl_reads, ttl_ref, ttl_alt)"
   ]
  },
  {
   "cell_type": "markdown",
   "metadata": {},
   "source": [
    "# scatter plot: score vs. log_pval"
   ]
  },
  {
   "cell_type": "code",
   "execution_count": 4,
   "metadata": {
    "scrolled": false
   },
   "outputs": [
    {
     "name": "stderr",
     "output_type": "stream",
     "text": [
      "/storage/pandaman/tools_and_dependencies/anaconda/anaconda3/lib/python3.7/site-packages/scipy/stats/stats.py:1535: UserWarning: kurtosistest only valid for n>=20 ... continuing anyway, n=11\n",
      "  \"anyway, n=%i\" % int(n))\n",
      "findfont: Font family ['Arial'] not found. Falling back to DejaVu Sans.\n"
     ]
    },
    {
     "name": "stdout",
     "output_type": "stream",
     "text": [
      "0 0.0017021253466762106 21405\n",
      "1 0.0022931406808422198 4807\n",
      "2 0.002573559309778399 1308\n",
      "3 0.002673356079274734 574\n",
      "4 0.0036079951245028756 300\n",
      "5 0.0033066085419942437 231\n",
      "6 0.003555930002566999 137\n",
      "7 0.003600824366956253 84\n",
      "8 0.0034615193298287144 85\n",
      "9 0.0028107941348534116 62\n",
      "10 0.003726761381776818 327\n",
      "[0.0, 2.0, 4.0, 6.0, 8.0, 10.0, 12.0, 14.0, 16.0, 18.0, 20.0] [0.00227112 0.00242258 0.00257404 0.0027255  0.00287696 0.00302842\n",
      " 0.00317988 0.00333134 0.0034828  0.00363426 0.00378572]\n",
      "(0.7595025646146222, 0.0066952466171754255)\n",
      "0.5768441456561881\n",
      "                            OLS Regression Results                            \n",
      "==============================================================================\n",
      "Dep. Variable:                      y   R-squared:                       0.577\n",
      "Model:                            OLS   Adj. R-squared:                  0.530\n",
      "Method:                 Least Squares   F-statistic:                     12.27\n",
      "Date:                Thu, 24 Mar 2022   Prob (F-statistic):            0.00670\n",
      "Time:                        11:27:30   Log-Likelihood:                 70.179\n",
      "No. Observations:                  11   AIC:                            -136.4\n",
      "Df Residuals:                       9   BIC:                            -135.6\n",
      "Df Model:                           1                                         \n",
      "Covariance Type:            nonrobust                                         \n",
      "==============================================================================\n",
      "                 coef    std err          t      P>|t|      [0.025      0.975]\n",
      "------------------------------------------------------------------------------\n",
      "const          0.0023      0.000      8.878      0.000       0.002       0.003\n",
      "x1          7.573e-05   2.16e-05      3.503      0.007    2.68e-05       0.000\n",
      "==============================================================================\n",
      "Omnibus:                        0.790   Durbin-Watson:                   1.277\n",
      "Prob(Omnibus):                  0.674   Jarque-Bera (JB):                0.228\n",
      "Skew:                          -0.343   Prob(JB):                        0.892\n",
      "Kurtosis:                       2.831   Cond. No.                         22.2\n",
      "==============================================================================\n",
      "\n",
      "Warnings:\n",
      "[1] Standard Errors assume that the covariance matrix of the errors is correctly specified.\n",
      "==========\n",
      "0 0.001661244099374345 8302\n",
      "1 0.0019751420965365284 1174\n",
      "2 0.0017488581201406705 341\n",
      "3 0.0025403975816768753 135\n",
      "4 0.002527026950309708 79\n",
      "5 0.0036143473869705007 43\n",
      "6 0.002093139779022149 38\n",
      "7 0.0034980934963139395 28\n",
      "8 0.0019860171928737388 19\n",
      "9 0.0015053767226585093 15\n",
      "10 0.002634108242862995 113\n",
      "[0.0, 2.0, 4.0, 6.0, 8.0, 10.0, 12.0, 14.0, 16.0, 18.0, 20.0] [0.0021086  0.00215568 0.00220275 0.00224983 0.0022969  0.00234398\n",
      " 0.00239105 0.00243813 0.0024852  0.00253228 0.00257935]\n",
      "(0.22185223710218127, 0.5120650982297074)\n",
      "0.04921841510724234\n",
      "                            OLS Regression Results                            \n",
      "==============================================================================\n",
      "Dep. Variable:                      y   R-squared:                       0.049\n",
      "Model:                            OLS   Adj. R-squared:                 -0.056\n",
      "Method:                 Least Squares   F-statistic:                    0.4659\n",
      "Date:                Thu, 24 Mar 2022   Prob (F-statistic):              0.512\n",
      "Time:                        11:27:31   Log-Likelihood:                 65.043\n",
      "No. Observations:                  11   AIC:                            -126.1\n",
      "Df Residuals:                       9   BIC:                            -125.3\n",
      "Df Model:                           1                                         \n",
      "Covariance Type:            nonrobust                                         \n",
      "==============================================================================\n",
      "                 coef    std err          t      P>|t|      [0.025      0.975]\n",
      "------------------------------------------------------------------------------\n",
      "const          0.0021      0.000      5.168      0.001       0.001       0.003\n",
      "x1          2.354e-05   3.45e-05      0.683      0.512   -5.45e-05       0.000\n",
      "==============================================================================\n",
      "Omnibus:                        1.266   Durbin-Watson:                   2.117\n",
      "Prob(Omnibus):                  0.531   Jarque-Bera (JB):                0.757\n",
      "Skew:                           0.602   Prob(JB):                        0.685\n",
      "Kurtosis:                       2.551   Cond. No.                         22.2\n",
      "==============================================================================\n",
      "\n",
      "Warnings:\n",
      "[1] Standard Errors assume that the covariance matrix of the errors is correctly specified.\n",
      "==========\n"
     ]
    },
    {
     "name": "stderr",
     "output_type": "stream",
     "text": [
      "/storage/pandaman/tools_and_dependencies/anaconda/anaconda3/lib/python3.7/site-packages/scipy/stats/stats.py:1535: UserWarning: kurtosistest only valid for n>=20 ... continuing anyway, n=11\n",
      "  \"anyway, n=%i\" % int(n))\n"
     ]
    },
    {
     "name": "stdout",
     "output_type": "stream",
     "text": [
      "0 0.0016011617441455401 5656\n",
      "1 0.0019251512907747053 755\n",
      "2 0.0021159011739830657 210\n",
      "3 0.001592102839505022 85\n",
      "4 0.002349440443893391 42\n",
      "5 0.0015265778188585629 30\n",
      "6 0.002511832978104366 19\n",
      "7 0.003731502476865833 16\n",
      "8 0.0009339935371462641 16\n",
      "9 0.0008552188305236057 13\n",
      "10 0.002753203659716367 83\n",
      "[0.0, 2.0, 4.0, 6.0, 8.0, 10.0, 12.0, 14.0, 16.0, 18.0, 20.0] [0.00188256 0.00190416 0.00192575 0.00194735 0.00196895 0.00199055\n",
      " 0.00201215 0.00203375 0.00205535 0.00207695 0.00209855]\n",
      "(0.08584411028861448, 0.8018457643603029)\n",
      "0.007369211271243792\n",
      "                            OLS Regression Results                            \n",
      "==============================================================================\n",
      "Dep. Variable:                      y   R-squared:                       0.007\n",
      "Model:                            OLS   Adj. R-squared:                 -0.103\n",
      "Method:                 Least Squares   F-statistic:                   0.06682\n",
      "Date:                Thu, 24 Mar 2022   Prob (F-statistic):              0.802\n",
      "Time:                        11:27:31   Log-Likelihood:                 62.932\n",
      "No. Observations:                  11   AIC:                            -121.9\n",
      "Df Residuals:                       9   BIC:                            -121.1\n",
      "Df Model:                           1                                         \n",
      "Covariance Type:            nonrobust                                         \n",
      "==============================================================================\n",
      "                 coef    std err          t      P>|t|      [0.025      0.975]\n",
      "------------------------------------------------------------------------------\n",
      "const          0.0019      0.000      3.808      0.004       0.001       0.003\n",
      "x1           1.08e-05   4.18e-05      0.258      0.802   -8.37e-05       0.000\n",
      "==============================================================================\n",
      "Omnibus:                        0.879   Durbin-Watson:                   2.244\n",
      "Prob(Omnibus):                  0.644   Jarque-Bera (JB):                0.243\n",
      "Skew:                           0.358   Prob(JB):                        0.886\n",
      "Kurtosis:                       2.867   Cond. No.                         22.2\n",
      "==============================================================================\n",
      "\n",
      "Warnings:\n",
      "[1] Standard Errors assume that the covariance matrix of the errors is correctly specified.\n",
      "==========\n"
     ]
    },
    {
     "name": "stderr",
     "output_type": "stream",
     "text": [
      "/storage/pandaman/tools_and_dependencies/anaconda/anaconda3/lib/python3.7/site-packages/scipy/stats/stats.py:1535: UserWarning: kurtosistest only valid for n>=20 ... continuing anyway, n=11\n",
      "  \"anyway, n=%i\" % int(n))\n"
     ]
    },
    {
     "name": "stdout",
     "output_type": "stream",
     "text": [
      "0 0.0016872602377809788 8224\n",
      "1 0.002058567690921771 1126\n",
      "2 0.002064429124098495 319\n",
      "3 0.002403834901444678 144\n",
      "4 0.0027647302854711003 65\n",
      "5 0.0021707162749349416 52\n",
      "6 0.003518328554006771 28\n",
      "7 0.0032750956182137857 27\n",
      "8 0.0024710993791524235 18\n",
      "9 0.0012841667648022606 14\n",
      "10 0.002555848524649844 117\n",
      "[0.0, 2.0, 4.0, 6.0, 8.0, 10.0, 12.0, 14.0, 16.0, 18.0, 20.0] [0.00216121 0.00220632 0.00225142 0.00229653 0.00234163 0.00238673\n",
      " 0.00243184 0.00247694 0.00252205 0.00256715 0.00261226]\n",
      "(0.2305064899484957, 0.4952992932449255)\n",
      "0.05313324190837598\n",
      "                            OLS Regression Results                            \n",
      "==============================================================================\n",
      "Dep. Variable:                      y   R-squared:                       0.053\n",
      "Model:                            OLS   Adj. R-squared:                 -0.052\n",
      "Method:                 Least Squares   F-statistic:                    0.5050\n",
      "Date:                Thu, 24 Mar 2022   Prob (F-statistic):              0.495\n",
      "Time:                        11:27:31   Log-Likelihood:                 65.957\n",
      "No. Observations:                  11   AIC:                            -127.9\n",
      "Df Residuals:                       9   BIC:                            -127.1\n",
      "Df Model:                           1                                         \n",
      "Covariance Type:            nonrobust                                         \n",
      "==============================================================================\n",
      "                 coef    std err          t      P>|t|      [0.025      0.975]\n",
      "------------------------------------------------------------------------------\n",
      "const          0.0022      0.000      5.756      0.000       0.001       0.003\n",
      "x1          2.255e-05   3.17e-05      0.711      0.495   -4.92e-05    9.43e-05\n",
      "==============================================================================\n",
      "Omnibus:                        1.087   Durbin-Watson:                   1.561\n",
      "Prob(Omnibus):                  0.581   Jarque-Bera (JB):                0.058\n",
      "Skew:                          -0.154   Prob(JB):                        0.971\n",
      "Kurtosis:                       3.178   Cond. No.                         22.2\n",
      "==============================================================================\n",
      "\n",
      "Warnings:\n",
      "[1] Standard Errors assume that the covariance matrix of the errors is correctly specified.\n",
      "==========\n"
     ]
    },
    {
     "name": "stderr",
     "output_type": "stream",
     "text": [
      "/storage/pandaman/tools_and_dependencies/anaconda/anaconda3/lib/python3.7/site-packages/scipy/stats/stats.py:1535: UserWarning: kurtosistest only valid for n>=20 ... continuing anyway, n=11\n",
      "  \"anyway, n=%i\" % int(n))\n"
     ]
    },
    {
     "data": {
      "image/png": "[encoded data removed]",
      "text/plain": [
       "<Figure size 504x360 with 1 Axes>"
      ]
     },
     "metadata": {
      "needs_background": "light"
     },
     "output_type": "display_data"
    },
    {
     "data": {
      "image/png": "[encoded data removed]",
      "text/plain": [
       "<Figure size 504x360 with 1 Axes>"
      ]
     },
     "metadata": {
      "needs_background": "light"
     },
     "output_type": "display_data"
    },
    {
     "data": {
      "image/png": "[encoded data removed]",
      "text/plain": [
       "<Figure size 504x360 with 1 Axes>"
      ]
     },
     "metadata": {
      "needs_background": "light"
     },
     "output_type": "display_data"
    },
    {
     "data": {
      "image/png": "[encoded data removed]",
      "text/plain": [
       "<Figure size 504x360 with 1 Axes>"
      ]
     },
     "metadata": {
      "needs_background": "light"
     },
     "output_type": "display_data"
    }
   ],
   "source": [
    "def plot_dist(score_map, allelic_imb_dict, TF_name):\n",
    "    n_bins = 10\n",
    "    x_lim = 20\n",
    "    gap = x_lim / n_bins\n",
    "    scores_in_bins = [[] for bin_idx in range(n_bins+1)]\n",
    "    \n",
    "    \n",
    "    list_scores = []\n",
    "    list_ratio = []\n",
    "    for key in allelic_imb_dict:\n",
    "        if key in score_map:\n",
    "            (pval, ttl_reads, ttl_ref, ttl_alt) = allelic_imb_dict[key]\n",
    "            #if ttl_ref == 0 or ttl_alt == 0:\n",
    "            #    continue\n",
    "            if pval == 0:\n",
    "                continue\n",
    "            log_pval = -math.log10(pval)\n",
    "            bin_idx = min(n_bins, int(round(log_pval/gap)))\n",
    "            score = score_map[key]\n",
    "            scores_in_bins[bin_idx].append(abs(score))\n",
    "\n",
    "    for bin_idx in range(n_bins+1):\n",
    "        print(bin_idx, np.mean(scores_in_bins[bin_idx]), len(scores_in_bins[bin_idx]))\n",
    "    \n",
    "    fig = plt.figure()\n",
    "    fig.set_size_inches((7, 5))\n",
    "    ax = fig.add_subplot(111)\n",
    "    \n",
    "    ax.spines['right'].set_visible(False)\n",
    "    ax.spines['top'].set_visible(False)\n",
    "    ax.yaxis.set_ticks_position('left')\n",
    "    ax.xaxis.set_ticks_position('bottom')\n",
    "    \n",
    "    ax.set_xlim((-1, x_lim+1))\n",
    "    ax.set_ylim((0.0011, 0.0043))\n",
    "    ax.set_xlabel(\"-log10 pvalue\", size=12, fontname=\"Arial\")\n",
    "    ax.ticklabel_format(style='scientific', axis=\"y\", scilimits=(0, 0))\n",
    "    ax.set_ylabel(\"Importance score\", size=12, fontname=\"Arial\")\n",
    "    x_vals = [_*gap for _ in range(len(scores_in_bins))]\n",
    "    y_vals = [np.mean(scores_in_bins[bin_idx]) for bin_idx in range(len(scores_in_bins))]\n",
    "    y_errs = [sem(scores_in_bins[bin_idx]) for bin_idx in range(len(scores_in_bins))]\n",
    "    \n",
    "    regr = linear_model.LinearRegression()\n",
    "    x_mat = [[val] for val in x_vals]\n",
    "    regr.fit(x_mat, y_vals)\n",
    "    y_pred = regr.predict(x_mat)\n",
    "    print(x_vals, y_pred)\n",
    "    print(pearsonr(x_vals, y_vals))\n",
    "    ax.plot(x_vals, y_pred, color=\"crimson\")\n",
    "    \n",
    "    print(regr.score(x_mat, y_vals))\n",
    "    print(sm.OLS(y_vals, sm.add_constant(x_mat)).fit().summary())\n",
    "    \n",
    "    ax.scatter(x_vals, y_vals, marker=\"o\", )\n",
    "    #ax.errorbar(x_vals, y_vals, yerr=y_errs, marker=\"o\", linewidth=0, elinewidth=1, color=\"crimson\")\n",
    "    ax.errorbar(x_vals, y_vals, yerr=y_errs, marker=\"o\", linewidth=0, elinewidth=1, color=\"darkgrey\")\n",
    "    \n",
    "    plt.tight_layout()\n",
    "    # fig.savefig(\"./score_vs_allelic_imbalance_pval_control_%s.pdf\" %TF_name)\n",
    "\n",
    "for TF_name in TF_names:\n",
    "    plot_dist(score_map[TF_name], allelic_imb_dict, TF_name)\n",
    "    print(\"==========\")"
   ]
  }
 ],
 "metadata": {
  "kernelspec": {
   "display_name": "Python 3",
   "language": "python",
   "name": "python3"
  },
  "language_info": {
   "codemirror_mode": {
    "name": "ipython",
    "version": 3
   },
   "file_extension": ".py",
   "mimetype": "text/x-python",
   "name": "python",
   "nbconvert_exporter": "python",
   "pygments_lexer": "ipython3",
   "version": "3.7.4"
  }
 },
 "nbformat": 4,
 "nbformat_minor": 2
}
