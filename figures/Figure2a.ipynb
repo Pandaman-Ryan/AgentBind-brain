{
 "cells": [
  {
   "cell_type": "code",
   "execution_count": 1,
   "metadata": {},
   "outputs": [
    {
     "name": "stdout",
     "output_type": "stream",
     "text": [
      "Populating the interactive namespace from numpy and matplotlib\n"
     ]
    }
   ],
   "source": [
    "%pylab inline\n",
    "import matplotlib\n",
    "matplotlib.use('Agg')\n",
    "import matplotlib.pyplot as plt\n",
    "import seaborn as sns\n",
    "import os\n",
    "import math\n",
    "from scipy.stats import rankdata\n",
    "import numpy as np"
   ]
  },
  {
   "cell_type": "code",
   "execution_count": 2,
   "metadata": {},
   "outputs": [],
   "source": [
    "def read_score_map(weight_file, position_file):\n",
    "    score_map = {}\n",
    "    with open(weight_file) as f, open(position_file) as f_pos:\n",
    "        while True:\n",
    "            weight_info = f.readline().strip()\n",
    "            position_info = f_pos.readline().strip()\n",
    "\n",
    "            if (weight_info != \"\") and (position_info != \"\"):\n",
    "                chromID, motif_start, motif_end, seq_start, seq_end, strand = position_info.split(\",\")\n",
    "                seq_start, seq_end = int(seq_start), int(seq_end)\n",
    "                weights_raw = [abs(float(wt)) for wt in weight_info.split(\";\")]\n",
    "                weights_sum = sum(weights_raw)\n",
    "                weights = [w/weights_sum for w in weights_raw]\n",
    "                weight_ranks = rankdata(weights, method=\"max\")\n",
    "                for idx in range(1000):\n",
    "                    if (chromID, seq_start+idx) not in score_map:\n",
    "                        score_map[(chromID, seq_start+idx)] = [0, 0]\n",
    "                        \n",
    "                    if strand == \"+\":\n",
    "                        if abs(weights[idx]) > abs(score_map[(chromID, seq_start+idx)][0]):\n",
    "                            score_map[(chromID, seq_start+idx)] = [weights[idx], weight_ranks[idx]]\n",
    "                    elif strand == \"-\":\n",
    "                        if abs(weights[999-idx]) > abs(score_map[(chromID, seq_start+idx)][0]):\n",
    "                            score_map[(chromID, seq_start+idx)] = [weights[999-idx], weight_ranks[999-idx]]\n",
    "                    else:\n",
    "                        exit(\"wrong strand symbol: %s\" %(strand))\n",
    "            elif (weight_info == \"\") and (position_info == \"\"):\n",
    "                break\n",
    "            else:\n",
    "                exit(\"Files do not match:\\n%s\\n%s\" %(weight_file, position_file))\n",
    "    return score_map\n",
    "\n",
    "TF_name = \"PU1\" # choose one from LHX2  NeuN  Olig2  PU1\n",
    "position_file = \"/storage/pandaman/project/Alzheimers_ResNet/storage/experiments/seqs_one_hot_extended_sliding/%s/visualization/auxiliary_info.txt\" %(TF_name)\n",
    "weight_file = \"/storage/pandaman/project/Alzheimers_ResNet/storage/experiments/results_extended_coordconv_sliding/%s/annations_abs/scores.txt\" %(TF_name)\n",
    "score_map = read_score_map(weight_file, position_file)"
   ]
  },
  {
   "cell_type": "code",
   "execution_count": 3,
   "metadata": {},
   "outputs": [
    {
     "data": {
      "text/plain": [
       "500"
      ]
     },
     "execution_count": 3,
     "metadata": {},
     "output_type": "execute_result"
    }
   ],
   "source": [
    "score_list = []\n",
    "chromID, start, end = (\"chr2\", 127885699, 127886699)\n",
    "for pos in range(start, end):\n",
    "    score, rank = score_map[(chromID, pos)]\n",
    "    score_list.append(score)\n",
    "score_list = score_list[250:-250]\n",
    "len(score_list)"
   ]
  },
  {
   "cell_type": "code",
   "execution_count": 4,
   "metadata": {},
   "outputs": [
    {
     "name": "stderr",
     "output_type": "stream",
     "text": [
      "findfont: Font family ['Arial'] not found. Falling back to DejaVu Sans.\n"
     ]
    },
    {
     "data": {
      "image/png": "[encoded data removed]",
      "text/plain": [
       "<Figure size 504x360 with 1 Axes>"
      ]
     },
     "metadata": {},
     "output_type": "display_data"
    }
   ],
   "source": [
    "sns.set(style='white', font_scale=1.7)\n",
    "fig = plt.figure(figsize=(7, 5))\n",
    "ax = fig.add_subplot(111)\n",
    "ax.scatter([idx for idx in range(len(score_list))], score_list, color=\"darkgrey\")\n",
    "ax.spines['right'].set_visible(False)\n",
    "ax.spines['top'].set_visible(False)\n",
    "ax.yaxis.set_ticks_position('left')\n",
    "ax.xaxis.set_ticks_position('bottom')\n",
    "ax.set_xlabel(\"Position\", fontname=\"Arial\")\n",
    "ax.set_ylabel(\"Importance score\", fontname=\"Arial\")\n",
    "ax.set_xlim(-7,len(score_list)+7)\n",
    "# plt.vlines(426,0,0.03)\n",
    "plt.tight_layout()\n",
    "plt.show()"
   ]
  }
 ],
 "metadata": {
  "kernelspec": {
   "display_name": "Python 3",
   "language": "python",
   "name": "python3"
  },
  "language_info": {
   "codemirror_mode": {
    "name": "ipython",
    "version": 3
   },
   "file_extension": ".py",
   "mimetype": "text/x-python",
   "name": "python",
   "nbconvert_exporter": "python",
   "pygments_lexer": "ipython3",
   "version": "3.7.4"
  }
 },
 "nbformat": 4,
 "nbformat_minor": 2
}
