{
 "cells": [
  {
   "cell_type": "code",
   "execution_count": 1,
   "metadata": {},
   "outputs": [
    {
     "name": "stdout",
     "output_type": "stream",
     "text": [
      "Populating the interactive namespace from numpy and matplotlib\n"
     ]
    }
   ],
   "source": [
    "%pylab inline\n",
    "import math\n",
    "import matplotlib\n",
    "matplotlib.use('Agg')\n",
    "import matplotlib.pyplot as plt\n",
    "import os\n",
    "import numpy as np\n",
    "from scipy.stats import fisher_exact, sem, pearsonr\n",
    "from sklearn import linear_model\n",
    "import statsmodels.api as sm"
   ]
  },
  {
   "cell_type": "code",
   "execution_count": 2,
   "metadata": {},
   "outputs": [],
   "source": [
    "def read_score_map(weight_file, position_file):\n",
    "    score_map = {}\n",
    "    with open(weight_file) as f, open(position_file) as f_pos:\n",
    "        while True:\n",
    "            weight_info = f.readline().strip()\n",
    "            position_info = f_pos.readline().strip()\n",
    "\n",
    "            if (weight_info != \"\") and (position_info != \"\"):\n",
    "                chromID, motif_start, motif_end, seq_start, seq_end, strand = position_info.split(\",\")\n",
    "                seq_start, seq_end = int(seq_start), int(seq_end)\n",
    "                weights_raw = [abs(float(wt)) for wt in weight_info.split(\";\")]\n",
    "                weights_sum = sum(weights_raw)\n",
    "                weights = [w/weights_sum for w in weights_raw]\n",
    "                for idx in range(1000):\n",
    "                    if (chromID, seq_start+idx) not in score_map:\n",
    "                        score_map[(chromID, seq_start+idx)] = 0\n",
    "                    if strand == \"+\":\n",
    "                        if abs(weights[idx]) > abs(score_map[(chromID, seq_start+idx)]):\n",
    "                            score_map[(chromID, seq_start+idx)] = weights[idx]\n",
    "                    elif strand == \"-\":\n",
    "                        if abs(weights[999-idx]) > abs(score_map[(chromID, seq_start+idx)]):\n",
    "                            score_map[(chromID, seq_start+idx)] = weights[999-idx]\n",
    "                    else:\n",
    "                        exit(\"wrong strand symbol: %s\" %(strand))\n",
    "            elif (weight_info == \"\") and (position_info == \"\"):\n",
    "                break\n",
    "            else:\n",
    "                exit(\"Files do not match:\\n%s\\n%s\" %(weight_file, position_file))\n",
    "    return score_map\n",
    "\n",
    "\n",
    "data_path = \"/storage/pandaman/project/Alzheimers_ResNet/storage/experiments/\"\n",
    "TF_name = \"PU1\"\n",
    "position_file = os.path.join(data_path, \"seqs_one_hot_extended_sliding/%s/visualization/auxiliary_info.txt\" %(TF_name))\n",
    "weight_file = os.path.join(data_path, \"results_extended_coordconv_sliding/%s/annations_abs/scores.txt\" %(TF_name))\n",
    "score_map = read_score_map(weight_file, position_file)"
   ]
  },
  {
   "cell_type": "code",
   "execution_count": 3,
   "metadata": {},
   "outputs": [
    {
     "name": "stdout",
     "output_type": "stream",
     "text": [
      "4.876839737562798\n",
      "780682\n",
      "0\n",
      "478854\n",
      "149524\n",
      "54532\n",
      "24250\n",
      "12450\n",
      "7797\n",
      "5481\n",
      "4132\n",
      "3235\n",
      "40427\n"
     ]
    }
   ],
   "source": [
    "allelic_imb_file = \"/storage/pandaman/project/Alzheimers_ResNet/storage/allelic_imbalance/ADVariants.all_AllelicImbalance.txt\"\n",
    "allelic_imb_dict = {}\n",
    "allelic_imb_high_folds_dict = {}\n",
    "header = True\n",
    "list_ttl_reads = []\n",
    "for line in open(allelic_imb_file):\n",
    "    if line.startswith(\"#\"):\n",
    "        continue\n",
    "    else:\n",
    "        if header:\n",
    "            header = False\n",
    "            continue\n",
    "        else:\n",
    "            elems = line.strip().split()\n",
    "            chromID, pos = elems[0].split(\":\")\n",
    "            chromID = \"chr\" + chromID\n",
    "            pos = int(pos)\n",
    "            ttl_reads = float(elems[3])\n",
    "            ttl_ref = float(elems[4])\n",
    "            ttl_alt = float(elems[5])\n",
    "            pval = float(elems[6])\n",
    "            allelic_imb_dict[(chromID, pos)] = (pval, ttl_reads, ttl_ref, ttl_alt)\n",
    "            list_ttl_reads.append(ttl_reads)\n",
    "            if ttl_reads >= 10:\n",
    "                allelic_imb_high_folds_dict[(chromID, pos)] = (pval, ttl_reads, ttl_ref, ttl_alt)\n",
    "\n",
    "print(np.mean(list_ttl_reads))\n",
    "print(len(list_ttl_reads))\n",
    "for i in range(10):\n",
    "    print(len([elem for elem in list_ttl_reads if elem == i]))\n",
    "print(len([elem for elem in list_ttl_reads if elem >= 10]))"
   ]
  },
  {
   "cell_type": "markdown",
   "metadata": {},
   "source": [
    "# scatter plot: score vs. log_pval"
   ]
  },
  {
   "cell_type": "code",
   "execution_count": 4,
   "metadata": {},
   "outputs": [
    {
     "name": "stdout",
     "output_type": "stream",
     "text": [
      "0 0.0017021253466762106 21405\n",
      "1 0.0022931406808422198 4807\n",
      "2 0.002573559309778399 1308\n",
      "3 0.002673356079274734 574\n",
      "4 0.0036079951245028756 300\n",
      "5 0.0033066085419942437 231\n",
      "6 0.003555930002566999 137\n",
      "7 0.003600824366956253 84\n",
      "8 0.0034615193298287144 85\n",
      "9 0.0028107941348534116 62\n",
      "10 0.003726761381776818 327\n",
      "[0.0, 2.0, 4.0, 6.0, 8.0, 10.0, 12.0, 14.0, 16.0, 18.0, 20.0] [0.00227112 0.00242258 0.00257404 0.0027255  0.00287696 0.00302842\n",
      " 0.00317988 0.00333134 0.0034828  0.00363426 0.00378572]\n",
      "(0.7595025646146222, 0.0066952466171754255)\n",
      "0.5768441456561881\n"
     ]
    },
    {
     "name": "stderr",
     "output_type": "stream",
     "text": [
      "/storage/pandaman/tools_and_dependencies/anaconda/anaconda3/lib/python3.7/site-packages/scipy/stats/stats.py:1535: UserWarning: kurtosistest only valid for n>=20 ... continuing anyway, n=11\n",
      "  \"anyway, n=%i\" % int(n))\n",
      "findfont: Font family ['Arial'] not found. Falling back to DejaVu Sans.\n"
     ]
    },
    {
     "name": "stdout",
     "output_type": "stream",
     "text": [
      "                            OLS Regression Results                            \n",
      "==============================================================================\n",
      "Dep. Variable:                      y   R-squared:                       0.577\n",
      "Model:                            OLS   Adj. R-squared:                  0.530\n",
      "Method:                 Least Squares   F-statistic:                     12.27\n",
      "Date:                Thu, 24 Mar 2022   Prob (F-statistic):            0.00670\n",
      "Time:                        10:24:20   Log-Likelihood:                 70.179\n",
      "No. Observations:                  11   AIC:                            -136.4\n",
      "Df Residuals:                       9   BIC:                            -135.6\n",
      "Df Model:                           1                                         \n",
      "Covariance Type:            nonrobust                                         \n",
      "==============================================================================\n",
      "                 coef    std err          t      P>|t|      [0.025      0.975]\n",
      "------------------------------------------------------------------------------\n",
      "const          0.0023      0.000      8.878      0.000       0.002       0.003\n",
      "x1          7.573e-05   2.16e-05      3.503      0.007    2.68e-05       0.000\n",
      "==============================================================================\n",
      "Omnibus:                        0.790   Durbin-Watson:                   1.277\n",
      "Prob(Omnibus):                  0.674   Jarque-Bera (JB):                0.228\n",
      "Skew:                          -0.343   Prob(JB):                        0.892\n",
      "Kurtosis:                       2.831   Cond. No.                         22.2\n",
      "==============================================================================\n",
      "\n",
      "Warnings:\n",
      "[1] Standard Errors assume that the covariance matrix of the errors is correctly specified.\n"
     ]
    },
    {
     "data": {
      "image/png": "[encoded data removed]",
      "text/plain": [
       "<Figure size 360x252 with 1 Axes>"
      ]
     },
     "metadata": {
      "needs_background": "light"
     },
     "output_type": "display_data"
    }
   ],
   "source": [
    "def plot_dist(allelic_imb_dict):\n",
    "    n_bins = 10\n",
    "    x_lim = 20\n",
    "    gap = x_lim / n_bins\n",
    "    scores_in_bins = [[] for bin_idx in range(n_bins+1)]\n",
    "    \n",
    "    \n",
    "    list_scores = []\n",
    "    list_ratio = []\n",
    "    for key in allelic_imb_dict:\n",
    "        if key in score_map:\n",
    "            (pval, ttl_reads, ttl_ref, ttl_alt) = allelic_imb_dict[key]\n",
    "            #if ttl_ref == 0 or ttl_alt == 0:\n",
    "            #    continue\n",
    "            if pval == 0:\n",
    "                continue\n",
    "            log_pval = -math.log10(pval)\n",
    "            bin_idx = min(n_bins, int(round(log_pval/gap)))\n",
    "            score = score_map[key]\n",
    "            scores_in_bins[bin_idx].append(abs(score))\n",
    "\n",
    "    for bin_idx in range(n_bins+1):\n",
    "        print(bin_idx, np.mean(scores_in_bins[bin_idx]), len(scores_in_bins[bin_idx]))\n",
    "    \n",
    "    fig = plt.figure()\n",
    "    fig.set_size_inches((5, 3.5))\n",
    "    ax = fig.add_subplot(111)\n",
    "    \n",
    "    ax.spines['right'].set_visible(False)\n",
    "    ax.spines['top'].set_visible(False)\n",
    "    ax.yaxis.set_ticks_position('left')\n",
    "    ax.xaxis.set_ticks_position('bottom')\n",
    "    \n",
    "    ax.set_xlim((-1, x_lim+1))\n",
    "    ax.set_ylim((0.0015, 0.0043))\n",
    "    ax.set_xlabel(\"-log10 pvalue\", size=12, fontname=\"Arial\")\n",
    "    ax.ticklabel_format(style='scientific', axis=\"y\", scilimits=(0, 0))\n",
    "    ax.set_ylabel(\"Importance score\", size=12, fontname=\"Arial\")\n",
    "    x_vals = [_*gap for _ in range(len(scores_in_bins))]\n",
    "    y_vals = [np.mean(scores_in_bins[bin_idx]) for bin_idx in range(len(scores_in_bins))]\n",
    "    y_errs = [sem(scores_in_bins[bin_idx]) for bin_idx in range(len(scores_in_bins))]\n",
    "    \n",
    "    regr = linear_model.LinearRegression()\n",
    "    x_mat = [[val] for val in x_vals]\n",
    "    regr.fit(x_mat, y_vals)\n",
    "    y_pred = regr.predict(x_mat)\n",
    "    print(x_vals, y_pred)\n",
    "    print(pearsonr(x_vals, y_vals))\n",
    "    ax.plot(x_vals, y_pred, color=\"crimson\")\n",
    "    \n",
    "    print(regr.score(x_mat, y_vals))\n",
    "    print(sm.OLS(y_vals, sm.add_constant(x_mat)).fit().summary())\n",
    "    \n",
    "    ax.scatter(x_vals, y_vals, marker=\"o\")\n",
    "    ax.errorbar(x_vals, y_vals, yerr=y_errs, marker=\"o\", linewidth=0, elinewidth=1, color=\"darkgrey\")\n",
    "    \n",
    "    plt.tight_layout()\n",
    "    #fig.savefig(\"./score_vs_allelic_imbalance_pval.pdf\")\n",
    "\n",
    "plot_dist(allelic_imb_dict)"
   ]
  }
 ],
 "metadata": {
  "kernelspec": {
   "display_name": "Python 3",
   "language": "python",
   "name": "python3"
  },
  "language_info": {
   "codemirror_mode": {
    "name": "ipython",
    "version": 3
   },
   "file_extension": ".py",
   "mimetype": "text/x-python",
   "name": "python",
   "nbconvert_exporter": "python",
   "pygments_lexer": "ipython3",
   "version": "3.7.4"
  }
 },
 "nbformat": 4,
 "nbformat_minor": 2
}
