{
 "cells": [
  {
   "cell_type": "code",
   "execution_count": 1,
   "metadata": {},
   "outputs": [
    {
     "name": "stdout",
     "output_type": "stream",
     "text": [
      "Populating the interactive namespace from numpy and matplotlib\n"
     ]
    }
   ],
   "source": [
    "%pylab inline\n",
    "import math\n",
    "import matplotlib\n",
    "matplotlib.use('Agg')\n",
    "import matplotlib.pyplot as plt\n",
    "import os\n",
    "import numpy as np\n",
    "from scipy.stats import fisher_exact, pearsonr\n",
    "import scipy"
   ]
  },
  {
   "cell_type": "code",
   "execution_count": 2,
   "metadata": {},
   "outputs": [],
   "source": [
    "data_path = \"/storage/pandaman/project/Alzheimers_ResNet/storage/gnomAD/simplified_gnomad.txt\"\n",
    "TF_names = [\"PU1\", \"LHX2\", \"NeuN\", \"Olig2\"]"
   ]
  },
  {
   "cell_type": "markdown",
   "metadata": {},
   "source": [
    "# singleton"
   ]
  },
  {
   "cell_type": "code",
   "execution_count": 3,
   "metadata": {},
   "outputs": [],
   "source": [
    "def acquire_thresholds(percentile):\n",
    "    thresholds = [0 for TF_idx in range(4)]\n",
    "    for TF_idx in range(4):    \n",
    "        score_list = []\n",
    "        for line in open(data_path):\n",
    "            elems = line.strip().split()\n",
    "            TF_score = float(elems[7+TF_idx])\n",
    "            if TF_score != -1:\n",
    "                score_list.append(abs(TF_score))\n",
    "        score_list.sort()\n",
    "        thres_idx = int(len(score_list) * percentile)\n",
    "        thresholds[TF_idx] = score_list[thres_idx]\n",
    "    print(\"Threshold: \", thresholds)\n",
    "    return thresholds"
   ]
  },
  {
   "cell_type": "code",
   "execution_count": 4,
   "metadata": {},
   "outputs": [],
   "source": [
    "def compute_singleton_rate(thresholds, skip_pval):\n",
    "    p_sing_list = []\n",
    "    se_sing_list = []\n",
    "    \n",
    "    n_snps_ttl = 0\n",
    "    n_singletons_ttl = 0\n",
    "    n_snps_hs_ttl = 0\n",
    "    n_singletons_hs_ttl = 0\n",
    "    \n",
    "    for TF_idx in [0, 1, 3, 2]:\n",
    "        n_snps = 0\n",
    "        n_singletons = 0\n",
    "        n_snps_hs = 0\n",
    "        n_singletons_hs = 0\n",
    "        for line in open(data_path):\n",
    "            elems = line.strip().split()\n",
    "            AC = int(elems[5])\n",
    "            AN = int(elems[6])\n",
    "            TF_score = float(elems[7+TF_idx])\n",
    "            if TF_score != -1:\n",
    "                n_snps_ttl += 1\n",
    "                n_snps += 1\n",
    "                if AC == 1 or (AN-AC) == 1:\n",
    "                    n_singletons_ttl += 1\n",
    "                    n_singletons += 1\n",
    "                if abs(TF_score) > thresholds[TF_idx]:\n",
    "                    n_snps_hs += 1\n",
    "                    n_snps_hs_ttl += 1\n",
    "                    if AC == 1 or (AN-AC) == 1:\n",
    "                        n_singletons_hs += 1\n",
    "                        n_singletons_hs_ttl += 1\n",
    "        \n",
    "        p_sing = float(n_singletons_hs)/n_snps_hs\n",
    "        p_sing_list.append(p_sing)\n",
    "        se_sing = np.sqrt(p_sing*(1-p_sing)/float(n_snps_hs))\n",
    "        se_sing_list.append(se_sing)\n",
    "        \n",
    "        if not skip_pval:\n",
    "            p_sing_ttl = float(n_singletons)/n_snps\n",
    "            p_sing_others = (n_singletons-n_singletons_hs)*1.0/(n_snps-n_snps_hs)\n",
    "            #se_pval = np.sqrt(p_sing_ttl*(1-p_sing_ttl)*(1.0/n_snps_hs+1.0/(n_snps-n_snps_hs)))\n",
    "            se_pval = np.sqrt(p_sing*(1-p_sing)/n_snps_hs + p_sing_others*(1-p_sing_others)/(n_snps-n_snps_hs))\n",
    "            pval = scipy.stats.norm.sf((p_sing-p_sing_others)/se_pval)\n",
    "        else:\n",
    "            pval = \"NaN\"\n",
    "        \n",
    "        print(TF_names[TF_idx])\n",
    "        print(n_snps, n_singletons, p_sing, pval)\n",
    "        \n",
    "        \n",
    "    if not skip_pval:\n",
    "        p_sing_ttl = float(n_singletons_ttl)/n_snps_ttl\n",
    "        p_sing_hs = float(n_singletons_hs_ttl)/n_snps_hs_ttl\n",
    "        p_sing_others = (n_singletons_ttl-n_singletons_hs_ttl)*1.0/(n_snps_ttl-n_snps_hs_ttl)\n",
    "        se_pval = np.sqrt(p_sing_hs*(1-p_sing_hs)/n_snps_hs_ttl + p_sing_others*(1-p_sing_others)/(n_snps_ttl-n_snps_hs_ttl))\n",
    "        #se_pval = np.sqrt(p_sing_ttl*(1-p_sing_ttl)*(1.0/n_snps_hs_ttl+1.0/(n_snps_ttl-n_snps_hs_ttl)))\n",
    "        print(p_sing_hs, p_sing_others,se_pval,(p_sing_hs-p_sing_others)/se_pval,scipy.stats.norm.cdf((p_sing_hs-p_sing_others)/se_pval))\n",
    "        pval = scipy.stats.norm.sf((p_sing_hs-p_sing_others)/se_pval)\n",
    "        print(\"pvalue: %s\" %(pval))\n",
    "        \n",
    "        \n",
    "    return p_sing_list, se_sing_list"
   ]
  },
  {
   "cell_type": "code",
   "execution_count": 5,
   "metadata": {},
   "outputs": [],
   "source": [
    "p_sing_mat = []\n",
    "se_sing_mat = []\n",
    "def record_singleton_rate(thresholds, p_sing_mat, se_sing_mat, skip_pval=False):\n",
    "    p_sing_list, se_sing_list = compute_singleton_rate(thresholds, skip_pval)\n",
    "    p_sing_mat.append(p_sing_list)\n",
    "    se_sing_mat.append(se_sing_list)"
   ]
  },
  {
   "cell_type": "code",
   "execution_count": 6,
   "metadata": {},
   "outputs": [
    {
     "name": "stdout",
     "output_type": "stream",
     "text": [
      "PU1\n",
      "810167 403074 0.4975196471838522 NaN\n",
      "LHX2\n",
      "601117 303038 0.5041248209583159 NaN\n",
      "Olig2\n",
      "613996 309533 0.5041286913921263 NaN\n",
      "NeuN\n",
      "447067 226466 0.5065594195053538 NaN\n"
     ]
    }
   ],
   "source": [
    "record_singleton_rate([0, 0, 0, 0], p_sing_mat, se_sing_mat, skip_pval=True)"
   ]
  },
  {
   "cell_type": "code",
   "execution_count": 7,
   "metadata": {},
   "outputs": [
    {
     "name": "stdout",
     "output_type": "stream",
     "text": [
      "Threshold:  [0.005847797389047765, 0.0060106733723442685, 0.0060240813532479315, 0.006052970744357655]\n",
      "PU1\n",
      "810167 403074 0.5073318850597412 2.530802707411984e-05\n",
      "LHX2\n",
      "601117 303038 0.5216769256363334 2.0590921478984418e-10\n",
      "Olig2\n",
      "613996 309533 0.5222645688784651 3.3668552856092626e-11\n",
      "NeuN\n",
      "447067 226466 0.5221223102044469 8.810966479176483e-07\n",
      "0.5172026048618695 0.5016225776291208 0.0014582364733119308 10.68415686885377 1.0\n",
      "pvalue: 6.037057581314698e-27\n"
     ]
    }
   ],
   "source": [
    "record_singleton_rate(acquire_thresholds(0.95), p_sing_mat, se_sing_mat)"
   ]
  },
  {
   "cell_type": "code",
   "execution_count": 8,
   "metadata": {},
   "outputs": [
    {
     "name": "stdout",
     "output_type": "stream",
     "text": [
      "Threshold:  [0.01940369589053927, 0.01911963964114681, 0.01836362691706821, 0.019873827936364222]\n",
      "PU1\n",
      "810167 403074 0.5118518518518519 0.0336788312095359\n",
      "LHX2\n",
      "601117 303038 0.5261231281198003 0.007735900526630651\n",
      "Olig2\n",
      "613996 309533 0.5294884327142392 0.0023883262233764728\n",
      "NeuN\n",
      "447067 226466 0.5391498881431768 0.0009719286904448675\n",
      "0.5246379156889716 0.502289848568367 0.0045034078206734615 4.962479084841691 0.999999652004684\n",
      "pvalue: 3.4799531596078803e-07\n"
     ]
    }
   ],
   "source": [
    "record_singleton_rate(acquire_thresholds(0.995), p_sing_mat, se_sing_mat)"
   ]
  },
  {
   "cell_type": "code",
   "execution_count": 9,
   "metadata": {},
   "outputs": [
    {
     "name": "stdout",
     "output_type": "stream",
     "text": [
      "[[0.4975196471838522, 0.5041248209583159, 0.5041286913921263, 0.5065594195053538], [0.5073318850597412, 0.5216769256363334, 0.5222645688784651, 0.5221223102044469], [0.5118518518518519, 0.5261231281198003, 0.5294884327142392, 0.5391498881431768]]\n",
      "[0.50655942 0.52212231 0.53914989]\n"
     ]
    }
   ],
   "source": [
    "print(p_sing_mat)\n",
    "print(np.array(p_sing_mat)[:,3])"
   ]
  },
  {
   "cell_type": "code",
   "execution_count": 10,
   "metadata": {},
   "outputs": [
    {
     "name": "stderr",
     "output_type": "stream",
     "text": [
      "findfont: Font family ['Arial'] not found. Falling back to DejaVu Sans.\n"
     ]
    },
    {
     "data": {
      "image/png": "[encoded data removed]",
      "text/plain": [
       "<Figure size 576x360 with 1 Axes>"
      ]
     },
     "metadata": {
      "needs_background": "light"
     },
     "output_type": "display_data"
    }
   ],
   "source": [
    "xvals = np.array(range(4))\n",
    "\n",
    "w = 0.1\n",
    "fig = plt.figure()\n",
    "fig.set_size_inches((8, 5))\n",
    "ax = fig.add_subplot(111)\n",
    "\n",
    "colors = [\"darkgray\", \"goldenrod\", \"crimson\"]\n",
    "labels = [\"All positions\", \"High-scoring SNPs (Top 5%)\", \"High-scoring SNPs (Top 0.5%)\"]\n",
    "for i in range(3):\n",
    "    ax.errorbar(xvals+w*i, p_sing_mat[i], label=labels[i], yerr=se_sing_mat[i], marker=\"o\", linewidth=0, elinewidth=1, color=colors[i])\n",
    "\n",
    "ax.spines['right'].set_visible(False)\n",
    "ax.spines['top'].set_visible(False)\n",
    "ax.yaxis.set_ticks_position('left')\n",
    "ax.xaxis.set_ticks_position('bottom')\n",
    "\n",
    "#TF_names = [\"PU1\", \"LHX2\", \"NeuN\", \"Olig2\"]\n",
    "TF_full_names = [\"Microglia\", \"Astrocyte\", \"Oligodendrocyte\", \"Neuron\"]\n",
    "ax.set_xticks(xvals+w)\n",
    "ax.set_xticklabels(TF_full_names, size=12, fontname=\"Arial\");\n",
    "ax.set_yticklabels([\"%0.2f\"%item for item in ax.get_yticks()], size=12, fontname=\"Arial\")\n",
    "ax.legend(loc=\"upper left\")\n",
    "ax.set_ylabel(\"Singleton percentage\", size=12, fontname=\"Arial\")\n",
    "ax.set_xlim(-0.5, 3.5)\n",
    "plt.tight_layout()\n",
    "# fig.savefig(\"./singleton_950_995.pdf\")"
   ]
  },
  {
   "cell_type": "markdown",
   "metadata": {},
   "source": [
    "# AgentBind score vs. MAF"
   ]
  },
  {
   "cell_type": "code",
   "execution_count": 11,
   "metadata": {},
   "outputs": [],
   "source": [
    "def compute_mean_score_with_MAF(min_AF, max_AF):\n",
    "    avg_score_list = []\n",
    "    se_list = []\n",
    "    for TF_idx in range(4):\n",
    "        score_list = []\n",
    "        \n",
    "        for line in open(data_path):\n",
    "            elems = line.strip().split()\n",
    "            AC = int(elems[5])\n",
    "            AN = int(elems[6])\n",
    "            \n",
    "            if AC == 0 or AC == AN:\n",
    "                continue\n",
    "            \n",
    "            AF = float(AC) / AN\n",
    "            MAF = AF if AF <= 0.5 else 1-AF\n",
    "            TF_score = float(elems[7+TF_idx])\n",
    "            \n",
    "            if TF_score != -1 and MAF > min_AF and MAF <= max_AF:\n",
    "                score_list.append(abs(TF_score))\n",
    "        \n",
    "        avg_score_list.append(np.mean(score_list))\n",
    "        se_list.append(scipy.stats.sem(score_list))\n",
    "        print(TF_names[TF_idx])\n",
    "        print(np.mean(score_list), len(score_list))\n",
    "    return avg_score_list, se_list"
   ]
  },
  {
   "cell_type": "code",
   "execution_count": 12,
   "metadata": {},
   "outputs": [],
   "source": [
    "avg_score_mat = []\n",
    "se_mat = []\n",
    "def record_mean_score_with_MAF(min_AF, max_AF, avg_score_mat, se_mat):\n",
    "    avg_score_list, se_list = compute_mean_score_with_MAF(min_AF, max_AF)\n",
    "    avg_score_mat.append(avg_score_list)\n",
    "    se_mat.append(se_list)"
   ]
  },
  {
   "cell_type": "code",
   "execution_count": 13,
   "metadata": {},
   "outputs": [
    {
     "name": "stdout",
     "output_type": "stream",
     "text": [
      "PU1\n",
      "0.0015106762215965235 394380\n",
      "LHX2\n",
      "0.0015313065452904708 297057\n",
      "NeuN\n",
      "0.0015716459461503592 223118\n",
      "Olig2\n",
      "0.001573448873611377 303342\n"
     ]
    }
   ],
   "source": [
    "record_mean_score_with_MAF(min_AF=0, max_AF=1e-4, avg_score_mat=avg_score_mat, se_mat=se_mat)"
   ]
  },
  {
   "cell_type": "code",
   "execution_count": 14,
   "metadata": {},
   "outputs": [
    {
     "name": "stdout",
     "output_type": "stream",
     "text": [
      "PU1\n",
      "0.0014643117118183428 223945\n",
      "LHX2\n",
      "0.001483100123258848 166409\n",
      "NeuN\n",
      "0.0015493100604874774 122286\n",
      "Olig2\n",
      "0.0015291206018465404 169540\n"
     ]
    }
   ],
   "source": [
    "record_mean_score_with_MAF(min_AF=1e-4, max_AF=1e-3, avg_score_mat=avg_score_mat, se_mat=se_mat)"
   ]
  },
  {
   "cell_type": "code",
   "execution_count": 15,
   "metadata": {},
   "outputs": [
    {
     "name": "stdout",
     "output_type": "stream",
     "text": [
      "PU1\n",
      "0.001451461993088121 105924\n",
      "LHX2\n",
      "0.0014483508419746661 77427\n",
      "NeuN\n",
      "0.0014893165948899629 57455\n",
      "Olig2\n",
      "0.0014883472398744655 79622\n"
     ]
    }
   ],
   "source": [
    "record_mean_score_with_MAF(min_AF=1e-3, max_AF=1e-2, avg_score_mat=avg_score_mat, se_mat=se_mat)"
   ]
  },
  {
   "cell_type": "code",
   "execution_count": 16,
   "metadata": {},
   "outputs": [
    {
     "name": "stdout",
     "output_type": "stream",
     "text": [
      "PU1\n",
      "0.0014511577778295213 85755\n",
      "LHX2\n",
      "0.0014030619598423652 60119\n",
      "NeuN\n",
      "0.001393845058106344 44105\n",
      "Olig2\n",
      "0.0014306615034619388 61361\n"
     ]
    }
   ],
   "source": [
    "record_mean_score_with_MAF(min_AF=1e-2, max_AF=1, avg_score_mat=avg_score_mat, se_mat=se_mat)"
   ]
  },
  {
   "cell_type": "code",
   "execution_count": 17,
   "metadata": {},
   "outputs": [
    {
     "name": "stdout",
     "output_type": "stream",
     "text": [
      "[[0.0015106762215965235, 0.0015313065452904708, 0.0015716459461503592, 0.001573448873611377], [0.0014643117118183428, 0.001483100123258848, 0.0015493100604874774, 0.0015291206018465404], [0.001451461993088121, 0.0014483508419746661, 0.0014893165948899629, 0.0014883472398744655], [0.0014511577778295213, 0.0014030619598423652, 0.001393845058106344, 0.0014306615034619388]]\n",
      "[0.00153131 0.0014831  0.00144835 0.00140306]\n",
      "[[4.818178711935049e-06, 5.479321410847672e-06, 6.1204157470972906e-06, 5.615450689580598e-06], [6.224193687541511e-06, 7.102810910144657e-06, 8.130024736248182e-06, 7.367928761017521e-06], [9.152525398887216e-06, 1.0102763925630134e-05, 1.1454982180561477e-05, 1.0421757704083354e-05], [1.0060931507767289e-05, 1.1305016936108462e-05, 1.2402893176376099e-05, 1.1474831844374503e-05]]\n"
     ]
    }
   ],
   "source": [
    "print(avg_score_mat)\n",
    "print(np.array(avg_score_mat)[:,1])\n",
    "print(se_mat)"
   ]
  },
  {
   "cell_type": "code",
   "execution_count": 18,
   "metadata": {},
   "outputs": [],
   "source": [
    "def draw_mean_scores(xvals, avg_score_list, se_list, fig_name, real_name, color):\n",
    "    ax.errorbar(xvals, avg_score_list, yerr=se_list, marker=\"o\", linewidth=1, elinewidth=1, color=color, label=real_name)#, color=\"lightcoral\")\n",
    "    print(pearsonr(xvals, avg_score_list))"
   ]
  },
  {
   "cell_type": "code",
   "execution_count": 19,
   "metadata": {},
   "outputs": [
    {
     "name": "stdout",
     "output_type": "stream",
     "text": [
      "Microgolia\n",
      "[0.00151068 0.00146431 0.00145146 0.00145116]\n",
      "[4.81817871e-06 6.22419369e-06 9.15252540e-06 1.00609315e-05]\n",
      "(-0.8765364420809627, 0.12346355791903729)\n",
      "Astrocytes\n",
      "[0.00153131 0.0014831  0.00144835 0.00140306]\n",
      "[5.47932141e-06 7.10281091e-06 1.01027639e-05 1.13050169e-05]\n",
      "(-0.9982474496890771, 0.001752550310922918)\n",
      "Oligodendracytes\n",
      "[0.00157345 0.00152912 0.00148835 0.00143066]\n",
      "[5.61545069e-06 7.36792876e-06 1.04217577e-05 1.14748318e-05]\n",
      "(-0.9970348444410465, 0.0029651555589534917)\n",
      "Neurons\n",
      "[0.00157165 0.00154931 0.00148932 0.00139385]\n",
      "[6.12041575e-06 8.13002474e-06 1.14549822e-05 1.24028932e-05]\n",
      "(-0.964052847340919, 0.035947152659080994)\n"
     ]
    },
    {
     "data": {
      "image/png": "[encoded data removed]",
      "text/plain": [
       "<Figure size 576x360 with 1 Axes>"
      ]
     },
     "metadata": {
      "needs_background": "light"
     },
     "output_type": "display_data"
    }
   ],
   "source": [
    "TF_full_names = [\"Microgolia\", \"Astrocytes\", \"Neurons\", \"Oligodendracytes\"]\n",
    "real_names = [\"Microglia (\"+\"$r^{2}=-0.877$\"+\")\", \"Astrocyte (\"+\"$r^{2}=-0.998$\"+\")\",\n",
    "              \"Neuron (\"+\"$r^{2}=-0.964$\"+\")\", \"Oligodendrocyte (\"+\"$r^{2}=-0.997$\"+\")\"]\n",
    "colors = [\"crimson\", \"steelblue\", \"darkorange\", \"forestgreen\"]\n",
    "fig = plt.figure()\n",
    "fig.set_size_inches((8, 5))\n",
    "ax = fig.add_subplot(111)\n",
    "xvals = np.array(range(4))\n",
    "for i in [0, 1, 3, 2]:\n",
    "    print(TF_full_names[i])\n",
    "    print(np.array(avg_score_mat)[:,i])\n",
    "    print(np.array(se_mat)[:,i])\n",
    "    draw_mean_scores(xvals, np.array(avg_score_mat)[:,i], np.array(se_mat)[:,i],\n",
    "                     TF_full_names[i], real_names[i], colors[i])\n",
    "    \n",
    "ax.spines['right'].set_visible(False)\n",
    "ax.spines['top'].set_visible(False)\n",
    "ax.yaxis.set_ticks_position('left')\n",
    "ax.xaxis.set_ticks_position('bottom')\n",
    "\n",
    "ax.set_xticks(xvals)\n",
    "x_labels = [\"<$10^{-4}$\", \"$10^{-4}$ ~ $10^{-3}$\", \"$10^{-3}$ ~ $10^{-2}$\", \">$10^{-2}$\"]\n",
    "ax.set_xticklabels(x_labels, size=12, fontname=\"Arial\")\n",
    "ax.set_xlabel(\"MAF\", size=12, fontname=\"Arial\")\n",
    "ax.ticklabel_format(style='scientific', axis=\"y\", scilimits=(0, 0))\n",
    "ax.set_ylabel(\"Importance score\", size=12, fontname=\"Arial\")\n",
    "ax.legend(fontsize=9, markerscale=1, edgecolor=\"white\", loc=1)\n",
    "plt.tight_layout()\n",
    "# fig.savefig(\"score_vs_MAF.pdf\")"
   ]
  }
 ],
 "metadata": {
  "kernelspec": {
   "display_name": "Python 3",
   "language": "python",
   "name": "python3"
  },
  "language_info": {
   "codemirror_mode": {
    "name": "ipython",
    "version": 3
   },
   "file_extension": ".py",
   "mimetype": "text/x-python",
   "name": "python",
   "nbconvert_exporter": "python",
   "pygments_lexer": "ipython3",
   "version": "3.7.4"
  }
 },
 "nbformat": 4,
 "nbformat_minor": 2
}
